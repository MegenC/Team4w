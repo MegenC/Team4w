{
 "cells": [
  {
   "cell_type": "code",
   "execution_count": 60,
   "id": "c07cc303",
   "metadata": {},
   "outputs": [],
   "source": [
    "import pandas as pd\n",
    "from math import sqrt;\n",
    "from sklearn import preprocessing\n",
    "from sklearn.ensemble import RandomForestClassifier\n",
    "from sklearn.linear_model import LogisticRegression;\n",
    "from sklearn.metrics import accuracy_score, r2_score, classification_report, confusion_matrix, mean_absolute_error, mean_squared_error, f1_score, log_loss\n",
    "from sklearn.model_selection import train_test_split\n",
    "from sklearn.tree import DecisionTreeClassifier\n",
    "from sklearn import metrics\n",
    "import numpy as np\n",
    "import matplotlib.pyplot as plt\n",
    "import seaborn as sn\n",
    "import joblib"
   ]
  },
  {
   "cell_type": "code",
   "execution_count": 61,
   "id": "d8c11146",
   "metadata": {},
   "outputs": [],
   "source": [
    "#Importing Datasets \n",
    "malicious_dataset = pd.read_csv('malicious_flows.csv')\n",
    "benign_dataset = pd.read_csv('sample_benign_flows.csv')\n",
    "\n",
    "# Removing duplicated rows from benign_dataset (5380 rows removed)\n",
    "benign_dataset = benign_dataset[benign_dataset.duplicated(keep=False) == False]\n",
    "\n",
    "# Combining both datasets together\n",
    "all_flows = pd.concat([malicious_dataset, benign_dataset])\n",
    "\n",
    "# Reducing the size of the dataset to reduce the amount of time taken in training models\n",
    "reduced_dataset = all_flows.sample(25000)\n",
    "\n",
    "#removing nan values\n",
    "df = reduced_dataset.drop(reduced_dataset.columns[np.isnan(reduced_dataset).any()], axis=1)\n",
    "\n",
    "reduced_y=df['isMalware']\n",
    "reduced_x=df.drop(['isMalware'], axis=1)"
   ]
  },
  {
   "cell_type": "code",
   "execution_count": 62,
   "id": "535fb6e5",
   "metadata": {},
   "outputs": [
    {
     "name": "stdout",
     "output_type": "stream",
     "text": [
      "<class 'pandas.core.frame.DataFrame'>\n",
      "Int64Index: 25000 entries, 4079 to 17826\n",
      "Columns: 504 entries, Src_Port to 99\n",
      "dtypes: float64(133), int64(371)\n",
      "memory usage: 96.3 MB\n"
     ]
    }
   ],
   "source": [
    "#Showing information \n",
    "reduced_dataset.info()"
   ]
  },
  {
   "cell_type": "code",
   "execution_count": 63,
   "id": "7138e90a",
   "metadata": {},
   "outputs": [
    {
     "data": {
      "text/html": [
       "<div>\n",
       "<style scoped>\n",
       "    .dataframe tbody tr th:only-of-type {\n",
       "        vertical-align: middle;\n",
       "    }\n",
       "\n",
       "    .dataframe tbody tr th {\n",
       "        vertical-align: top;\n",
       "    }\n",
       "\n",
       "    .dataframe thead th {\n",
       "        text-align: right;\n",
       "    }\n",
       "</style>\n",
       "<table border=\"1\" class=\"dataframe\">\n",
       "  <thead>\n",
       "    <tr style=\"text-align: right;\">\n",
       "      <th></th>\n",
       "      <th>Src_Port</th>\n",
       "      <th>Dst_Port</th>\n",
       "      <th>Bytes_in</th>\n",
       "      <th>Bytes_out</th>\n",
       "      <th>Pkts_in</th>\n",
       "      <th>Pkts_out</th>\n",
       "      <th>entropy</th>\n",
       "      <th>byte_dist_std</th>\n",
       "      <th>byte_dist_mn</th>\n",
       "      <th>num_of_exts</th>\n",
       "      <th>...</th>\n",
       "      <th>90</th>\n",
       "      <th>91</th>\n",
       "      <th>92</th>\n",
       "      <th>93</th>\n",
       "      <th>94</th>\n",
       "      <th>95</th>\n",
       "      <th>96</th>\n",
       "      <th>97</th>\n",
       "      <th>98</th>\n",
       "      <th>99</th>\n",
       "    </tr>\n",
       "  </thead>\n",
       "  <tbody>\n",
       "    <tr>\n",
       "      <th>4079</th>\n",
       "      <td>49341</td>\n",
       "      <td>443</td>\n",
       "      <td>1060</td>\n",
       "      <td>545</td>\n",
       "      <td>7</td>\n",
       "      <td>8</td>\n",
       "      <td>7.564174</td>\n",
       "      <td>58.004306</td>\n",
       "      <td>99.193769</td>\n",
       "      <td>5</td>\n",
       "      <td>...</td>\n",
       "      <td>NaN</td>\n",
       "      <td>NaN</td>\n",
       "      <td>NaN</td>\n",
       "      <td>NaN</td>\n",
       "      <td>NaN</td>\n",
       "      <td>NaN</td>\n",
       "      <td>NaN</td>\n",
       "      <td>NaN</td>\n",
       "      <td>NaN</td>\n",
       "      <td>NaN</td>\n",
       "    </tr>\n",
       "    <tr>\n",
       "      <th>8795</th>\n",
       "      <td>40613</td>\n",
       "      <td>443</td>\n",
       "      <td>1827</td>\n",
       "      <td>634</td>\n",
       "      <td>7</td>\n",
       "      <td>15</td>\n",
       "      <td>7.719059</td>\n",
       "      <td>61.986012</td>\n",
       "      <td>107.399837</td>\n",
       "      <td>5</td>\n",
       "      <td>...</td>\n",
       "      <td>0.0</td>\n",
       "      <td>0.0</td>\n",
       "      <td>0.0</td>\n",
       "      <td>0.0</td>\n",
       "      <td>0.0</td>\n",
       "      <td>0.0</td>\n",
       "      <td>0.0</td>\n",
       "      <td>0.0</td>\n",
       "      <td>0.0</td>\n",
       "      <td>0.0</td>\n",
       "    </tr>\n",
       "    <tr>\n",
       "      <th>8199</th>\n",
       "      <td>37523</td>\n",
       "      <td>443</td>\n",
       "      <td>1737</td>\n",
       "      <td>1063</td>\n",
       "      <td>7</td>\n",
       "      <td>15</td>\n",
       "      <td>3.978356</td>\n",
       "      <td>56.481778</td>\n",
       "      <td>92.933571</td>\n",
       "      <td>7</td>\n",
       "      <td>...</td>\n",
       "      <td>1.0</td>\n",
       "      <td>1.0</td>\n",
       "      <td>1.0</td>\n",
       "      <td>1.0</td>\n",
       "      <td>1.0</td>\n",
       "      <td>1.0</td>\n",
       "      <td>1.0</td>\n",
       "      <td>1.0</td>\n",
       "      <td>1.0</td>\n",
       "      <td>1.0</td>\n",
       "    </tr>\n",
       "    <tr>\n",
       "      <th>3285</th>\n",
       "      <td>44833</td>\n",
       "      <td>443</td>\n",
       "      <td>1736</td>\n",
       "      <td>1101</td>\n",
       "      <td>7</td>\n",
       "      <td>15</td>\n",
       "      <td>4.002285</td>\n",
       "      <td>56.985548</td>\n",
       "      <td>96.539302</td>\n",
       "      <td>7</td>\n",
       "      <td>...</td>\n",
       "      <td>1.0</td>\n",
       "      <td>1.0</td>\n",
       "      <td>1.0</td>\n",
       "      <td>1.0</td>\n",
       "      <td>1.0</td>\n",
       "      <td>1.0</td>\n",
       "      <td>1.0</td>\n",
       "      <td>1.0</td>\n",
       "      <td>1.0</td>\n",
       "      <td>1.0</td>\n",
       "    </tr>\n",
       "    <tr>\n",
       "      <th>24252</th>\n",
       "      <td>41971</td>\n",
       "      <td>8443</td>\n",
       "      <td>1738</td>\n",
       "      <td>643</td>\n",
       "      <td>8</td>\n",
       "      <td>15</td>\n",
       "      <td>7.745308</td>\n",
       "      <td>60.455713</td>\n",
       "      <td>111.257875</td>\n",
       "      <td>5</td>\n",
       "      <td>...</td>\n",
       "      <td>0.0</td>\n",
       "      <td>0.0</td>\n",
       "      <td>0.0</td>\n",
       "      <td>0.0</td>\n",
       "      <td>0.0</td>\n",
       "      <td>0.0</td>\n",
       "      <td>0.0</td>\n",
       "      <td>0.0</td>\n",
       "      <td>0.0</td>\n",
       "      <td>0.0</td>\n",
       "    </tr>\n",
       "  </tbody>\n",
       "</table>\n",
       "<p>5 rows × 504 columns</p>\n",
       "</div>"
      ],
      "text/plain": [
       "       Src_Port  Dst_Port  Bytes_in  Bytes_out  Pkts_in  Pkts_out   entropy  \\\n",
       "4079      49341       443      1060        545        7         8  7.564174   \n",
       "8795      40613       443      1827        634        7        15  7.719059   \n",
       "8199      37523       443      1737       1063        7        15  3.978356   \n",
       "3285      44833       443      1736       1101        7        15  4.002285   \n",
       "24252     41971      8443      1738        643        8        15  7.745308   \n",
       "\n",
       "       byte_dist_std  byte_dist_mn  num_of_exts  ...   90   91   92   93   94  \\\n",
       "4079       58.004306     99.193769            5  ...  NaN  NaN  NaN  NaN  NaN   \n",
       "8795       61.986012    107.399837            5  ...  0.0  0.0  0.0  0.0  0.0   \n",
       "8199       56.481778     92.933571            7  ...  1.0  1.0  1.0  1.0  1.0   \n",
       "3285       56.985548     96.539302            7  ...  1.0  1.0  1.0  1.0  1.0   \n",
       "24252      60.455713    111.257875            5  ...  0.0  0.0  0.0  0.0  0.0   \n",
       "\n",
       "        95   96   97   98   99  \n",
       "4079   NaN  NaN  NaN  NaN  NaN  \n",
       "8795   0.0  0.0  0.0  0.0  0.0  \n",
       "8199   1.0  1.0  1.0  1.0  1.0  \n",
       "3285   1.0  1.0  1.0  1.0  1.0  \n",
       "24252  0.0  0.0  0.0  0.0  0.0  \n",
       "\n",
       "[5 rows x 504 columns]"
      ]
     },
     "execution_count": 63,
     "metadata": {},
     "output_type": "execute_result"
    }
   ],
   "source": [
    "reduced_dataset.head()"
   ]
  },
  {
   "cell_type": "code",
   "execution_count": 64,
   "id": "6ea6e98b",
   "metadata": {},
   "outputs": [],
   "source": [
    "# Splitting datasets into training and test data\n",
    "x_train, x_test, y_train, y_test = train_test_split(reduced_x, reduced_y, test_size=0.2, random_state=42)"
   ]
  },
  {
   "cell_type": "code",
   "execution_count": 65,
   "id": "24e26ea7",
   "metadata": {},
   "outputs": [
    {
     "name": "stdout",
     "output_type": "stream",
     "text": [
      "Random Forest Classifier Accuracy score:  0.9986\n"
     ]
    }
   ],
   "source": [
    "# Training random forest classifier\n",
    "rf_clf = RandomForestClassifier(max_depth=100)\n",
    "rf_clf.fit(x_train, y_train) \n",
    "rf_prediction = rf_clf.predict(x_test)\n",
    "conf_m = confusion_matrix(y_test, rf_prediction)  \n",
    "print('Random Forest Classifier Accuracy score: ', accuracy_score(y_test, rf_prediction))"
   ]
  },
  {
   "cell_type": "code",
   "execution_count": 66,
   "id": "b97d8326",
   "metadata": {},
   "outputs": [],
   "source": [
    "#Function to plot most import features of random forest model\n",
    "def plot_feature_importance(importance,names,model_type):\n",
    "\n",
    "    #Create arrays from feature importance and feature names\n",
    "    feature_importance = np.array(importance)\n",
    "    feature_names = np.array(names)\n",
    "\n",
    "    #Create a DataFrame using a Dictionary\n",
    "    data={'feature_names':feature_names,'feature_importance':feature_importance}\n",
    "    fi_df = pd.DataFrame(data)\n",
    "\n",
    "    #Sort the DataFrame in order decreasing feature importance\n",
    "    fi_df.sort_values(by=['feature_importance'], ascending=False,inplace=True)\n",
    "\n",
    "    #Define size of bar plot\n",
    "    plt.figure(figsize=(10,8))\n",
    "    #Plot Searborn bar chart\n",
    "    sn.barplot(x=fi_df['feature_importance'], y=fi_df['feature_names'])\n",
    "    plt.ylim(0, 50)\n",
    "    #Add chart labels\n",
    "    plt.title(model_type + 'FEATURE IMPORTANCE')\n",
    "    plt.xlabel('FEATURE IMPORTANCE')\n",
    "    plt.ylabel('FEATURE NAMES')"
   ]
  },
  {
   "cell_type": "code",
   "execution_count": 67,
   "id": "d20d09bd",
   "metadata": {},
   "outputs": [
    {
     "data": {
      "image/png": "[encoded data removed]",
      "text/plain": [
       "<Figure size 720x576 with 1 Axes>"
      ]
     },
     "metadata": {
      "needs_background": "light"
     },
     "output_type": "display_data"
    }
   ],
   "source": [
    "plot_feature_importance(rf_clf.feature_importances_,x_train.columns,'RANDOM FOREST') "
   ]
  },
  {
   "cell_type": "code",
   "execution_count": 68,
   "id": "e3d33688",
   "metadata": {},
   "outputs": [
    {
     "name": "stderr",
     "output_type": "stream",
     "text": [
      "/Users/megencochran/opt/anaconda3/lib/python3.8/site-packages/seaborn/distributions.py:2557: FutureWarning: `distplot` is a deprecated function and will be removed in a future version. Please adapt your code to use either `displot` (a figure-level function with similar flexibility) or `histplot` (an axes-level function for histograms).\n",
      "  warnings.warn(msg, FutureWarning)\n"
     ]
    },
    {
     "data": {
      "image/png": "[encoded data removed]",
      "text/plain": [
       "<Figure size 800x560 with 1 Axes>"
      ]
     },
     "metadata": {
      "needs_background": "light"
     },
     "output_type": "display_data"
    }
   ],
   "source": [
    "x1 = reduced_dataset.loc[reduced_dataset.isMalware==1, 'Src_Port']\n",
    "x2 = reduced_dataset.loc[reduced_dataset.isMalware==0, 'Src_Port']\n",
    "\n",
    "kwargs = dict(hist_kws={'alpha':.6}, kde_kws={'linewidth':2})\n",
    "\n",
    "plt.figure(figsize=(10,7), dpi= 80)\n",
    "sn.distplot(x1, color=\"royalblue\", label=\"Malware\", **kwargs, kde=False)\n",
    "sn.distplot(x2, color=\"orange\", label=\"Benign\", **kwargs, kde=False)\n",
    "\n",
    "plt.legend();\n",
    "plt.show()"
   ]
  },
  {
   "cell_type": "code",
   "execution_count": 42,
   "id": "7e1e9183",
   "metadata": {},
   "outputs": [
    {
     "name": "stderr",
     "output_type": "stream",
     "text": [
      "/Users/megencochran/opt/anaconda3/lib/python3.8/site-packages/sklearn/linear_model/_logistic.py:763: ConvergenceWarning: lbfgs failed to converge (status=1):\n",
      "STOP: TOTAL NO. of ITERATIONS REACHED LIMIT.\n",
      "\n",
      "Increase the number of iterations (max_iter) or scale the data as shown in:\n",
      "    https://scikit-learn.org/stable/modules/preprocessing.html\n",
      "Please also refer to the documentation for alternative solver options:\n",
      "    https://scikit-learn.org/stable/modules/linear_model.html#logistic-regression\n",
      "  n_iter_i = _check_optimize_result(\n"
     ]
    }
   ],
   "source": [
    "#Creating Logistic Regression Object\n",
    "log_regression = LogisticRegression()\n",
    "#Train the model\n",
    "log_regression.fit(x_train, y_train)\n",
    "#Predict the unseen samples\n",
    "y_pred = log_regression.predict(x_test)"
   ]
  },
  {
   "cell_type": "code",
   "execution_count": 43,
   "id": "6582d83a",
   "metadata": {},
   "outputs": [
    {
     "name": "stdout",
     "output_type": "stream",
     "text": [
      "Accuracy:  0.9356\n"
     ]
    },
    {
     "data": {
      "image/png": "[encoded data removed]",
      "text/plain": [
       "<Figure size 432x288 with 2 Axes>"
      ]
     },
     "metadata": {
      "needs_background": "light"
     },
     "output_type": "display_data"
    }
   ],
   "source": [
    "#Creating Confusion Matrix\n",
    "conf_m = pd.crosstab(y_test, y_pred, rownames=['Benign'], colnames=['isMalware'])\n",
    "sn.heatmap(conf_m, annot=True)\n",
    "\n",
    "print('Accuracy: ',metrics.accuracy_score(y_test, y_pred))\n",
    "plt.show()"
   ]
  },
  {
   "cell_type": "code",
   "execution_count": 44,
   "id": "8aa48975",
   "metadata": {},
   "outputs": [
    {
     "name": "stdout",
     "output_type": "stream",
     "text": [
      "              precision    recall  f1-score   support\n",
      "\n",
      "           0       0.97      0.92      0.94      2873\n",
      "           1       0.90      0.95      0.93      2127\n",
      "\n",
      "    accuracy                           0.94      5000\n",
      "   macro avg       0.93      0.94      0.93      5000\n",
      "weighted avg       0.94      0.94      0.94      5000\n",
      "\n"
     ]
    }
   ],
   "source": [
    "print(classification_report(y_test, y_pred))"
   ]
  },
  {
   "cell_type": "code",
   "execution_count": 45,
   "id": "549b9e77",
   "metadata": {},
   "outputs": [
    {
     "data": {
      "text/plain": [
       "DecisionTreeClassifier()"
      ]
     },
     "execution_count": 45,
     "metadata": {},
     "output_type": "execute_result"
    }
   ],
   "source": [
    "#Decision Tree \n",
    "dt=DecisionTreeClassifier()\n",
    "dt.fit(x_train, y_train)\n",
    "dt"
   ]
  },
  {
   "cell_type": "code",
   "execution_count": 46,
   "id": "37397389",
   "metadata": {},
   "outputs": [
    {
     "name": "stdout",
     "output_type": "stream",
     "text": [
      "Decision Tree Accuracy: 0.9992\n",
      "Confusion Matrix\n",
      "[[2871    2]\n",
      " [   2 2125]]\n"
     ]
    }
   ],
   "source": [
    "dt_pre=dt.predict(x_test)\n",
    "print(\"Decision Tree Accuracy:\",accuracy_score(dt_pre,y_test))\n",
    "print(\"Confusion Matrix\")\n",
    "print(confusion_matrix(dt_pre,y_test))"
   ]
  },
  {
   "cell_type": "code",
   "execution_count": null,
   "id": "faa6433b",
   "metadata": {},
   "outputs": [],
   "source": []
  },
  {
   "cell_type": "code",
   "execution_count": null,
   "id": "3fe238a0",
   "metadata": {},
   "outputs": [],
   "source": []
  },
  {
   "cell_type": "code",
   "execution_count": null,
   "id": "295dad6f",
   "metadata": {},
   "outputs": [],
   "source": []
  }
 ],
 "metadata": {
  "kernelspec": {
   "display_name": "Python 3",
   "language": "python",
   "name": "python3"
  },
  "language_info": {
   "codemirror_mode": {
    "name": "ipython",
    "version": 3
   },
   "file_extension": ".py",
   "mimetype": "text/x-python",
   "name": "python",
   "nbconvert_exporter": "python",
   "pygments_lexer": "ipython3",
   "version": "3.8.8"
  }
 },
 "nbformat": 4,
 "nbformat_minor": 5
}
